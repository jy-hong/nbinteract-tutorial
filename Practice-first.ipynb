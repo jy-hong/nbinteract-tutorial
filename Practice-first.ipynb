{
 "cells": [
  {
   "cell_type": "code",
   "execution_count": 1,
   "metadata": {},
   "outputs": [],
   "source": [
    "from ipywidgets import interact\n",
    "from IPython.core.display import display, HTML"
   ]
  },
  {
   "cell_type": "code",
   "execution_count": 4,
   "metadata": {},
   "outputs": [
    {
     "data": {
      "text/html": [
       "<span style='background-color:rgba(255, 99, 71, 0.6)'>Jiyeon has 3 friends!</span>"
      ],
      "text/plain": [
       "<IPython.core.display.HTML object>"
      ]
     },
     "metadata": {},
     "output_type": "display_data"
    }
   ],
   "source": [
    "friends('Jiyeon', 3)"
   ]
  },
  {
   "cell_type": "code",
   "execution_count": 11,
   "metadata": {},
   "outputs": [
    {
     "data": {
      "text/html": [
       "<span style='background-color:rgba(255, 99, 71, 0.6)'>Jiyeon </span> has<span style='background-color:rgba(255, 99, 71, 0.6)'>3 </span> friends!"
      ],
      "text/plain": [
       "<IPython.core.display.HTML object>"
      ]
     },
     "execution_count": 11,
     "metadata": {},
     "output_type": "execute_result"
    }
   ],
   "source": [
    "html=''\n",
    "html+=\"<span style='background-color:rgba(255, 99, 71, 0.6)'>{} </span>\".format('Jiyeon') + ' has'\n",
    "html+=\"<span style='background-color:rgba(255, 99, 71, 0.6)'>{} </span>\".format(3) + ' friends!'\n",
    "HTML(html)"
   ]
  },
  {
   "cell_type": "code",
   "execution_count": 12,
   "metadata": {},
   "outputs": [],
   "source": [
    "def friends(name, number):\n",
    "    html = ''\n",
    "    html+=\"<span style='background-color:rgba(255, 99, 71, 0.6)'>{} </span>\".format(name) + ' has'\n",
    "    html+=\"<span style='background-color:rgba(255, 99, 71, 0.6)'>{} </span>\".format(number) + ' friends!'\n",
    "    return(display(HTML(html)))"
   ]
  },
  {
   "cell_type": "code",
   "execution_count": 15,
   "metadata": {},
   "outputs": [
    {
     "data": {
      "application/vnd.jupyter.widget-view+json": {
       "model_id": "e2351c51d5e6460fae9b0ab1b6653c8a",
       "version_major": 2,
       "version_minor": 0
      },
      "text/plain": [
       "interactive(children=(Text(value='Jiyeon', description='name'), IntSlider(value=3, description='number', max=9…"
      ]
     },
     "metadata": {},
     "output_type": "display_data"
    }
   ],
   "source": [
    "interact(friends, name='Jiyeon', number=3);"
   ]
  }
 ],
 "metadata": {
  "kernelspec": {
   "display_name": "Python 3",
   "language": "python",
   "name": "python3"
  },
  "language_info": {
   "codemirror_mode": {
    "name": "ipython",
    "version": 3
   },
   "file_extension": ".py",
   "mimetype": "text/x-python",
   "name": "python",
   "nbconvert_exporter": "python",
   "pygments_lexer": "ipython3",
   "version": "3.7.8"
  }
 },
 "nbformat": 4,
 "nbformat_minor": 4
}
